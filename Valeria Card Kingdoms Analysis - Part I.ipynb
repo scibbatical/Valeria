{
 "cells": [
  {
   "cell_type": "markdown",
   "metadata": {},
   "source": [
    "# Valeria Card Kingdoms:\n",
    "## Finding an edge\n",
    "\n",
    "As a Duke of Valeria, you amass a population of citizens. Each citizen produces resources when their card is activated. Activation is determined by dice roll.\n",
    "\n",
    "This game uses 2 dice to randomize citizen activation, but the mechanics are slightly different than other dice games. Like other games, the dice are rolled, and the sum of the dice dictate which resources are allocated, but in addition, the value shown on each die also triggers resource generation.\n",
    "\n",
    "Complicating matters further, some outcomes are triggered by a roll of multiple numbers. \n",
    "\n",
    "This unusual mechanism alters the familiar bell curve of probability, specifically boosting the probability of rolls 1-6. I think a 4 will be more likely than an 8, but how much more likely? Let's find out!"
   ]
  },
  {
   "cell_type": "markdown",
   "metadata": {},
   "source": [
    "### Determine the roll probabilities\n",
    "We'll perform a simulation to determine the probabilities: roll 2 dice 100 000 times and tally the results along the way. If our number of simulations is sufficiently large, the outcome should be pretty accurate."
   ]
  },
  {
   "cell_type": "code",
   "execution_count": 1,
   "metadata": {
    "collapsed": false
   },
   "outputs": [
    {
     "data": {
      "text/plain": [
       "Text(0.5,1,'Roll Activation Probabilities')"
      ]
     },
     "execution_count": 1,
     "metadata": {},
     "output_type": "execute_result"
    },
    {
     "data": {
      "image/png": "[encoded data removed]",
      "text/plain": [
       "<Figure size 432x288 with 1 Axes>"
      ]
     },
     "metadata": {
      "needs_background": "light"
     },
     "output_type": "display_data"
    }
   ],
   "source": [
    "import numpy as np\n",
    "import matplotlib.pyplot as plt\n",
    "\n",
    "%matplotlib inline\n",
    "\n",
    "# Define an empty array to tally the frequency of each dice roll\n",
    "freqs = np.zeros((13))\n",
    "\n",
    "# Simulate 100 000 rolls\n",
    "for i in range(100000):\n",
    "    # Randomly generate a value for each die (two dice are used)\n",
    "    a,b = np.random.randint(1,7,2)\n",
    "    # Increase the tally by 1 for the result of each die, and\n",
    "    # for the sum of the die values\n",
    "    freqs[a] += 1\n",
    "    freqs[b] += 1\n",
    "    freqs[a+b] += 1\n",
    "    \n",
    "# The game combines roll values (9, 10), and (11, 12).\n",
    "# Make sure our frequencies follow suit.\n",
    "freqs_final = np.append(freqs[1:9], freqs[9]+freqs[10])\n",
    "freqs_final = np.append(freqs_final, freqs[11]+freqs[12])\n",
    "\n",
    "# Calculate the probability for a given roll:\n",
    "roll_probs = freqs_final/100000\n",
    "\n",
    "\n",
    "#Prepare a chart showing the frequency of each roll\n",
    "\n",
    "# Create an x-axis and x labels\n",
    "x=(1,2,3,4,5,6,7,8,9,10)\n",
    "xlabels=(1,2,3,4,5,6,7,8,'9/10','11/12')\n",
    "\n",
    "# Plot the chart\n",
    "plt.bar(x,roll_probs*100)\n",
    "plt.xticks(x, xlabels)\n",
    "plt.ylabel('Probability %')\n",
    "plt.xlabel('Roll Activation Number')\n",
    "plt.title('Roll Activation Probabilities', fontsize=16)"
   ]
  },
  {
   "cell_type": "markdown",
   "metadata": {},
   "source": [
    "It's clear that this probability distribution is quite different that the one normally associated with dice. So how much more likely is a 4 than an 8?"
   ]
  },
  {
   "cell_type": "code",
   "execution_count": 2,
   "metadata": {
    "collapsed": false
   },
   "outputs": [
    {
     "data": {
      "text/plain": [
       "2.98503"
      ]
     },
     "execution_count": 2,
     "metadata": {},
     "output_type": "execute_result"
    }
   ],
   "source": [
    "round(roll_probs[3]/roll_probs[7],5)"
   ]
  },
  {
   "cell_type": "markdown",
   "metadata": {},
   "source": [
    "And there you have it: you're about 3 times more likely to roll a 4 than an 8."
   ]
  }
 ],
 "metadata": {
  "anaconda-cloud": {},
  "kernelspec": {
   "display_name": "Python [default]",
   "language": "python",
   "name": "python3"
  },
  "language_info": {
   "codemirror_mode": {
    "name": "ipython",
    "version": 3
   },
   "file_extension": ".py",
   "mimetype": "text/x-python",
   "name": "python",
   "nbconvert_exporter": "python",
   "pygments_lexer": "ipython3",
   "version": "3.5.5"
  }
 },
 "nbformat": 4,
 "nbformat_minor": 1
}
